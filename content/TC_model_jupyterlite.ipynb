{
 "cells": [
  {
   "cell_type": "code",
   "execution_count": null,
   "metadata": {},
   "outputs": [],
   "source": [
    "%pip install lmfit\n",
    "%pip install xlrd"
   ]
  },
  {
   "cell_type": "code",
   "execution_count": null,
   "metadata": {},
   "outputs": [],
   "source": [
    "%pip install -q ipympl"
   ]
  },
  {
   "cell_type": "code",
   "execution_count": null,
   "metadata": {},
   "outputs": [],
   "source": [
    "import scipy\n",
    "import matplotlib.pyplot as plt\n",
    "import lmfit\n",
    "import io\n",
    "import numpy as np\n",
    "import pandas as pd"
   ]
  },
  {
   "cell_type": "code",
   "execution_count": null,
   "metadata": {},
   "outputs": [],
   "source": [
    "%matplotlib inline"
   ]
  },
  {
   "cell_type": "markdown",
   "metadata": {},
   "source": [
    "# Read rheology data"
   ]
  },
  {
   "cell_type": "code",
   "execution_count": null,
   "metadata": {},
   "outputs": [],
   "source": [
    "Data_file=pd.ExcelFile('Flow_curve_example.xls')\n",
    "Data_file.sheet_names"
   ]
  },
  {
   "cell_type": "code",
   "execution_count": null,
   "metadata": {},
   "outputs": [],
   "source": [
    "data=Data_file.parse('Flow sweep - 2',skiprows=[0,2])\n",
    "data.head()"
   ]
  },
  {
   "cell_type": "markdown",
   "metadata": {},
   "source": [
    "# define model : Three component model\n",
    "\n",
    "$$\\sigma=\\sigma_y+\\sigma_y\\cdot(\\dot\\gamma/\\dot\\gamma_c)^{0.5}+\\eta_{bg}\\cdot\\dot\\gamma$$"
   ]
  },
  {
   "cell_type": "code",
   "execution_count": null,
   "metadata": {},
   "outputs": [],
   "source": [
    "def TC(x, ystress=1.0, eta_bg=0.1, gammadot_crit=0.1):\n",
    "    \"\"\"Three component model\n",
    "    Note:\n",
    "    .. math::\n",
    "       \\sigma=\\sigma_y+\\sigma_y\\cdot(\\dot\\gamma/\\dot\\gamma_c)^{0.5}+\\eta_{bg}\\cdot\\dot\\gamma\n",
    "    Args:\n",
    "        ystress: yield stress [Pa]\n",
    "        eta_bg : Background viscosity [Pa s]\n",
    "        gammadot_crit : Critical shear rate [1/s]\n",
    "    Returns:\n",
    "        stress : Shear Stress, [Pa]\n",
    "    \"\"\"\n",
    "    return ystress + ystress * (x / gammadot_crit) ** 0.5 + eta_bg * x\n",
    "\n",
    "TC_model = lmfit.Model(TC, prefix=\"TC_\")\n",
    "\n",
    "# set parameters for model class\n",
    "TC_model.set_param_hint(\"ystress\", min=0)\n",
    "TC_model.set_param_hint(\"eta_bg\", min=0, vary=True)\n",
    "TC_model.set_param_hint(\"gammadot_crit\", min=0)\n",
    "\n",
    "\n",
    "def HB(x, ystress=1.0, K=1.0, n=0.5):\n",
    "    \"\"\"Hershel-Bulkley Model\n",
    "    Note:\n",
    "    .. math::\n",
    "       \\sigma= \\sigma_y + K \\cdot \\dot\\gamma^n\n",
    "    Args:\n",
    "        ystress: yield stress [Pa]\n",
    "        K : Consistency index [Pa s^n]\n",
    "        n : Shear thinning index []\n",
    "    Returns:\n",
    "        stress : Shear Stress, [Pa]\n",
    "    \"\"\"\n",
    "    return ystress + K * x ** n\n",
    "\n",
    "\n",
    "HB_model = lmfit.Model(HB, prefix=\"HB_\")\n",
    "\n",
    "HB_model.set_param_hint(\"ystress\", min=0)\n",
    "HB_model.set_param_hint(\"K\", min=0, vary=True)\n",
    "HB_model.set_param_hint(\"n\", min=0.0, max=1, vary=True)"
   ]
  },
  {
   "cell_type": "code",
   "execution_count": null,
   "metadata": {},
   "outputs": [],
   "source": [
    "res_fit_TC=TC_model.fit(data['Stress'],x=data['Shear rate'], weights=1/data['Stress'])\n",
    "res_fit_HB=HB_model.fit(data['Stress'],x=data['Shear rate'], weights=1/data['Stress'])"
   ]
  },
  {
   "cell_type": "code",
   "execution_count": null,
   "metadata": {},
   "outputs": [],
   "source": [
    "plt.plot(data['Shear rate'],res_fit_TC.best_fit)\n",
    "plt.plot(data['Shear rate'],res_fit_HB.best_fit)\n",
    "\n",
    "plt.plot(data['Shear rate'], data['Stress'], 'o')\n",
    "plt.xlabel('Shear rate 1/s')\n",
    "plt.ylabel('Stress [Pa]')\n",
    "plt.xscale('log')\n",
    "plt.yscale('log')"
   ]
  },
  {
   "cell_type": "code",
   "execution_count": null,
   "metadata": {},
   "outputs": [],
   "source": [
    "import pybroom as pb\n"
   ]
  },
  {
   "cell_type": "code",
   "execution_count": null,
   "metadata": {},
   "outputs": [],
   "source": [
    "tidy_long=pb.tidy({'TC_example':res_fit_TC, 'HB_example':res_fit_HB})\n",
    "tidy_long"
   ]
  },
  {
   "cell_type": "code",
   "execution_count": null,
   "metadata": {},
   "outputs": [],
   "source": [
    "tidy_wide=tidy_long.pivot(index='key',columns='name',values='value')\n",
    "tidy_wide.reset_index()"
   ]
  },
  {
   "cell_type": "code",
   "execution_count": null,
   "metadata": {},
   "outputs": [],
   "source": [
    "tidy_wide.reset_index().to_excel('results.xlsx')"
   ]
  }
 ],
 "metadata": {
  "kernelspec": {
   "display_name": "Python 3 (ipykernel)",
   "language": "python",
   "name": "python3"
  },
  "language_info": {
   "codemirror_mode": {
    "name": "ipython",
    "version": 3
   },
   "file_extension": ".py",
   "mimetype": "text/x-python",
   "name": "python",
   "nbconvert_exporter": "python",
   "pygments_lexer": "ipython3",
   "version": "3.10.6"
  }
 },
 "nbformat": 4,
 "nbformat_minor": 4
}
